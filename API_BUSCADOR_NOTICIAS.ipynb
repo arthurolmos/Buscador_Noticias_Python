{
  "nbformat": 4,
  "nbformat_minor": 0,
  "metadata": {
    "colab": {
      "name": "Aula_03-API_BUSCADOR_NOTICIAS",
      "provenance": [],
      "collapsed_sections": [],
      "toc_visible": true,
      "authorship_tag": "ABX9TyM1igkANESdlK5hq3jG65id",
      "include_colab_link": true
    },
    "kernelspec": {
      "name": "python3",
      "display_name": "Python 3"
    }
  },
  "cells": [
    {
      "cell_type": "markdown",
      "metadata": {
        "id": "view-in-github",
        "colab_type": "text"
      },
      "source": [
        "<a href=\"https://colab.research.google.com/github/arthurolmos/semana-programador-python/blob/main/Aula_03_API_BUSCADOR_NOTICIAS.ipynb\" target=\"_parent\"><img src=\"https://colab.research.google.com/assets/colab-badge.svg\" alt=\"Open In Colab\"/></a>"
      ]
    },
    {
      "cell_type": "code",
      "metadata": {
        "id": "ZLK1ecoIKECW",
        "outputId": "c286e0e0-4772-4cb7-fa9c-6cf76bd1883b",
        "colab": {
          "base_uri": "https://localhost:8080/",
          "height": 241
        }
      },
      "source": [
        "from helpers import top_noticias\n",
        "\n",
        "print(\"===COLETOR NOTÍCIAS VIA API - NEWSAPI.ORG===\")\n",
        "print()\n",
        "print(\"Por favor, insira as informações solicitadas abaixo\")\n",
        "pais = input(\"Insira o país da notícia (br, us): \")\n",
        "pesquisa = input(\"Insira o que pesquisar (palavra ou frase): \")\n",
        "fonte = input(\"Insira a fonte (globo, google-news-br): \")\n",
        "categoria = input(\"Insira a categoria (business, general): \")\n",
        "\n",
        "#Chamando a função\n",
        "print()\n",
        "print()\n",
        "top_noticias(pais, pesquisa=pesquisa)"
      ],
      "execution_count": 1,
      "outputs": [
        {
          "output_type": "stream",
          "text": [
            "===COLETOR NOTÍCIAS VIA API - NEWSAPI.ORG===\n",
            "\n",
            "Por favor, insira as informações solicitadas abaixo\n",
            "Insira o país da notícia (br, us): br\n",
            "Insira o que pesquisar (palavra ou frase): covid\n",
            "Insira a fonte (globo, google-news-br): \n",
            "Insira a categoria (business, general): \n",
            "\n",
            "\n",
            "{'status': 'ok', 'totalResults': 4, 'articles': [{'source': {'id': None, 'name': 'Uol.com.br'}, 'author': 'MÁRCIA PEREIRA', 'title': 'Triste com o fim de Totalmente Demais? Veja como se divertir com Haja Coração - Notícias da TV', 'description': \"Haja Coração estreia segunda (12) com a missão difícil de afastar o 'luto' pelo fim de Totalmente Demais. A nova reprise entra no ar com o público já não tão confinado como nos meses anteriores. A pandemia de Covid-19 continua sendo uma realidade, mas aos pou…\", 'url': 'https://noticiasdatv.uol.com.br/noticia/novelas/triste-com-o-fim-de-totalmente-demais-veja-como-se-divertir-com-haja-coracao-43927', 'urlToImage': 'https://noticiasdatv.uol.com.br/media/uploads/artigos/globo-haja-coracao-tancinha-beto-apolo-malvino-salvador-joao.jpg', 'publishedAt': '2020-10-09T22:00:00Z', 'content': 'Haja Coração estreia segunda (12) com a missão difícil de afastar o \"luto\" pelo fim de Totalmente Demais. A nova reprise entra no ar com o público já não tão confinado como nos meses anteriores. A pa… [+3924 chars]'}, {'source': {'id': 'globo', 'name': 'Globo'}, 'author': None, 'title': 'Sergipe passa de 79,2 mil casos da Covid-19 e soma 2.083 mortes pela doença - G1', 'description': 'Dados são da Secretaria de Estado da Saúde (SES).', 'url': 'https://g1.globo.com/se/sergipe/noticia/2020/10/09/sergipe-passa-de-792-mil-casos-da-covid-19-e-soma-2083-mortes-pela-doenca.ghtml', 'urlToImage': 'https://s2.glbimg.com/Yjwb3y_t407MuoQqYOcuH9IgpLk=/1200x/smart/filters:cover():strip_icc()/i.s3.glbimg.com/v1/AUTH_59edd422c0c84a879bd37670ae4f538a/internal_photos/bs/2020/H/B/B6tBRNTzeLOUtJlMHFMw/laboratorio-municipal-de-piracicaba.jpg', 'publishedAt': '2020-10-09T21:07:00Z', 'content': 'Nesta sexta-feira (9), o Boletim Epidemiológico da Covid-19, divulgado pela Secretaria de Estado da Saúde (SES) registrou 288 casos do novo coronavírus em Sergipe, além de cinco mortes provocadas pel… [+1117 chars]'}, {'source': {'id': 'globo', 'name': 'Globo'}, 'author': 'The New York Times e O Globo', 'title': 'Trump planeja reunir centenas de pessoas na Casa Branca neste sábado - Jornal O Globo', 'description': 'Primeiro evento presencial do presidente americano após anunciar teste positivo para Covid-19 preocupa médicos', 'url': 'https://oglobo.globo.com/mundo/trump-planeja-reunir-centenas-de-pessoas-na-casa-branca-neste-sabado-24685911', 'urlToImage': 'https://ogimg.infoglobo.com.br/mundo/24685963-4e5-a8e/FT1086A/652/89967099_FILE-PHOTO-US-President-Donald-Trump-speaks-outside-the-White-House-where-he-is-being-t.jpg', 'publishedAt': '2020-10-09T20:16:53Z', 'content': 'WASHINGTON - O presidente dos Estados Unidos, Donald Trump, planeja reunir centenas de pessoas no gramado sul da Casa Branca neste sábado. Convites já foram enviados para o seu primeiro evento presen… [+6282 chars]'}, {'source': {'id': None, 'name': 'Engeplus.com.br'}, 'author': 'Portal Engeplus', 'title': 'Criciúma registra mais duas mortes por Covid-19 - Engeplus', 'description': 'Vigilância Epidemiológica já havia confirmado duas mortes nesta manhã', 'url': 'http://www.engeplus.com.br/noticia/saude/2020/152764-criciuma-registra-mais-duas-mortes-por-covid-19', 'urlToImage': 'http://www.engeplus.com.br/cache/noticia/0152/0152764/152764-criciuma-registra-mais-duas-mortes-por-covid-19.jpg?t=20201009163804', 'publishedAt': '2020-10-09T19:38:00Z', 'content': 'A Vigilância Epidemiológica de Criciúma confirmou na tarde desta sexta-feira, dia 9, mais dois óbitos de pacientes com Covid-19, residentes em Criciúma. Tratam-se de um homem de 57 anos de idade, e u… [+451 chars]'}]}\n",
            "\n",
            "[\"Triste com o fim de Totalmente Demais? Veja como se divertir com Haja Coração - Notícias da TV, {'id': None, 'name': 'Uol.com.br'}, MÁRCIA PEREIRA, 2020-10-09T22:00:00Z)\", \"Sergipe passa de 79,2 mil casos da Covid-19 e soma 2.083 mortes pela doença - G1, {'id': 'globo', 'name': 'Globo'}, None, 2020-10-09T21:07:00Z)\", \"Trump planeja reunir centenas de pessoas na Casa Branca neste sábado - Jornal O Globo, {'id': 'globo', 'name': 'Globo'}, The New York Times e O Globo, 2020-10-09T20:16:53Z)\", \"Criciúma registra mais duas mortes por Covid-19 - Engeplus, {'id': None, 'name': 'Engeplus.com.br'}, Portal Engeplus, 2020-10-09T19:38:00Z)\"]\n"
          ],
          "name": "stdout"
        }
      ]
    },
    {
      "cell_type": "code",
      "metadata": {
        "id": "8D7Bv-5aMreR"
      },
      "source": [
        ""
      ],
      "execution_count": 1,
      "outputs": []
    }
  ]
}