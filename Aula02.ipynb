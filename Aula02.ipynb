{
  "nbformat": 4,
  "nbformat_minor": 0,
  "metadata": {
    "colab": {
      "name": "Aula02",
      "provenance": [],
      "authorship_tag": "ABX9TyN6qmQNA1Gr49Mc3PT6a7Wr",
      "include_colab_link": true
    },
    "kernelspec": {
      "name": "python3",
      "display_name": "Python 3"
    }
  },
  "cells": [
    {
      "cell_type": "markdown",
      "metadata": {
        "id": "view-in-github",
        "colab_type": "text"
      },
      "source": [
        "<a href=\"https://colab.research.google.com/github/arthurolmos/semana-programador-python/blob/main/Aula02.ipynb\" target=\"_parent\"><img src=\"https://colab.research.google.com/assets/colab-badge.svg\" alt=\"Open In Colab\"/></a>"
      ]
    },
    {
      "cell_type": "code",
      "metadata": {
        "id": "ko1q9NqD3Ix6"
      },
      "source": [
        "primeiro_nome = \"Arthur\""
      ],
      "execution_count": 1,
      "outputs": []
    },
    {
      "cell_type": "code",
      "metadata": {
        "id": "uvGFQG0-3gyC"
      },
      "source": [
        "ultimo_nome = \"Wosniaki\""
      ],
      "execution_count": 2,
      "outputs": []
    },
    {
      "cell_type": "code",
      "metadata": {
        "id": "GO8e7kkP3jTc",
        "outputId": "cfe816df-7af5-4dc2-d2ac-58d4f4e6d6c1",
        "colab": {
          "base_uri": "https://localhost:8080/"
        }
      },
      "source": [
        "print(primeiro_nome, ultimo_nome)"
      ],
      "execution_count": 4,
      "outputs": [
        {
          "output_type": "stream",
          "text": [
            "Arthur Wosniaki\n"
          ],
          "name": "stdout"
        }
      ]
    },
    {
      "cell_type": "code",
      "metadata": {
        "id": "UxyTd-ZW3nbo",
        "outputId": "3029c38e-404f-4968-8066-b5c66d2e6365",
        "colab": {
          "base_uri": "https://localhost:8080/"
        }
      },
      "source": [
        "print(f\"O nome do cliente é {primeiro_nome.title()} {ultimo_nome.title()}\")"
      ],
      "execution_count": 7,
      "outputs": [
        {
          "output_type": "stream",
          "text": [
            "O nome do cliente é Arthur Wosniaki\n"
          ],
          "name": "stdout"
        }
      ]
    },
    {
      "cell_type": "code",
      "metadata": {
        "id": "Q5-k0RuP3y3g"
      },
      "source": [
        ""
      ],
      "execution_count": null,
      "outputs": []
    },
    {
      "cell_type": "markdown",
      "metadata": {
        "id": "7vgPr-n24EOo"
      },
      "source": [
        "TUPLAS, LISTAS E DICIONÁRIOS"
      ]
    },
    {
      "cell_type": "code",
      "metadata": {
        "id": "qSq2H0Rx4CIm"
      },
      "source": [
        "produto = ('arroz', 'alimento')"
      ],
      "execution_count": 8,
      "outputs": []
    },
    {
      "cell_type": "code",
      "metadata": {
        "id": "GAPzPeFG4VWv",
        "outputId": "56922c61-602a-489e-f6ec-33a09ce46b5c",
        "colab": {
          "base_uri": "https://localhost:8080/"
        }
      },
      "source": [
        "print(produto)"
      ],
      "execution_count": 9,
      "outputs": [
        {
          "output_type": "stream",
          "text": [
            "('arroz', 'alimento')\n"
          ],
          "name": "stdout"
        }
      ]
    },
    {
      "cell_type": "code",
      "metadata": {
        "id": "xCOXh1Rs4W_9"
      },
      "source": [
        "produtos = ['pão', 'manteiga', 'sal']"
      ],
      "execution_count": 11,
      "outputs": []
    },
    {
      "cell_type": "code",
      "metadata": {
        "id": "d0D6Oz-l5IH1",
        "outputId": "59c0aeca-523c-4fc6-ed68-c2df780adc0e",
        "colab": {
          "base_uri": "https://localhost:8080/"
        }
      },
      "source": [
        "print(produtos)"
      ],
      "execution_count": 12,
      "outputs": [
        {
          "output_type": "stream",
          "text": [
            "['pão', 'manteiga', 'sal']\n"
          ],
          "name": "stdout"
        }
      ]
    },
    {
      "cell_type": "code",
      "metadata": {
        "id": "1k4-unMK5NFG"
      },
      "source": [
        "produtos.append('queijo')"
      ],
      "execution_count": 13,
      "outputs": []
    },
    {
      "cell_type": "code",
      "metadata": {
        "id": "gNPi2eFW5QJV",
        "outputId": "e6a97fdc-fc80-444c-b0ab-32579c471cf3",
        "colab": {
          "base_uri": "https://localhost:8080/"
        }
      },
      "source": [
        "print(produtos)"
      ],
      "execution_count": 14,
      "outputs": [
        {
          "output_type": "stream",
          "text": [
            "['pão', 'manteiga', 'sal', 'queijo']\n"
          ],
          "name": "stdout"
        }
      ]
    },
    {
      "cell_type": "code",
      "metadata": {
        "id": "D6psI1Z85Ykz"
      },
      "source": [
        "item_removido = produtos.pop()"
      ],
      "execution_count": 15,
      "outputs": []
    },
    {
      "cell_type": "code",
      "metadata": {
        "id": "AFWNh8Qj5e0_",
        "outputId": "e0cdf4e7-8537-4f2b-dc17-3513ffe6963d",
        "colab": {
          "base_uri": "https://localhost:8080/"
        }
      },
      "source": [
        "print(item_removido)"
      ],
      "execution_count": 16,
      "outputs": [
        {
          "output_type": "stream",
          "text": [
            "queijo\n"
          ],
          "name": "stdout"
        }
      ]
    },
    {
      "cell_type": "code",
      "metadata": {
        "id": "nvdPOcsx5gti",
        "outputId": "7a35acc8-39dc-4195-e077-8c663c67a764",
        "colab": {
          "base_uri": "https://localhost:8080/"
        }
      },
      "source": [
        "print(produtos)"
      ],
      "execution_count": 17,
      "outputs": [
        {
          "output_type": "stream",
          "text": [
            "['pão', 'manteiga', 'sal']\n"
          ],
          "name": "stdout"
        }
      ]
    },
    {
      "cell_type": "code",
      "metadata": {
        "id": "I9e08Nw05imv"
      },
      "source": [
        "carro = { \n",
        "    'nome': 'corolla',\n",
        "    'ano': 2015,\n",
        "    'motor': 2.0\n",
        "}"
      ],
      "execution_count": 18,
      "outputs": []
    },
    {
      "cell_type": "code",
      "metadata": {
        "id": "HmL9ZUod59Mz",
        "outputId": "33c33eb8-735c-459c-e027-424b6819ecd2",
        "colab": {
          "base_uri": "https://localhost:8080/"
        }
      },
      "source": [
        "print(carro)"
      ],
      "execution_count": 19,
      "outputs": [
        {
          "output_type": "stream",
          "text": [
            "{'nome': 'corolla', 'ano': 2015, 'motor': 2.0}\n"
          ],
          "name": "stdout"
        }
      ]
    },
    {
      "cell_type": "code",
      "metadata": {
        "id": "2117uLON5-YB",
        "outputId": "bdd9b3fa-c2bf-4213-d712-dc28236984a6",
        "colab": {
          "base_uri": "https://localhost:8080/"
        }
      },
      "source": [
        "type(carro)"
      ],
      "execution_count": 20,
      "outputs": [
        {
          "output_type": "execute_result",
          "data": {
            "text/plain": [
              "dict"
            ]
          },
          "metadata": {
            "tags": []
          },
          "execution_count": 20
        }
      ]
    },
    {
      "cell_type": "code",
      "metadata": {
        "id": "yGjSSH8j6BFV",
        "outputId": "27c0a2f5-25a3-4c89-a218-f72d575de411",
        "colab": {
          "base_uri": "https://localhost:8080/"
        }
      },
      "source": [
        "print(carro['motor'])"
      ],
      "execution_count": 21,
      "outputs": [
        {
          "output_type": "stream",
          "text": [
            "2.0\n"
          ],
          "name": "stdout"
        }
      ]
    },
    {
      "cell_type": "markdown",
      "metadata": {
        "id": "ni3JGAdc6YRA"
      },
      "source": [
        "Tuplas = () //Imutável;\n",
        "Listas = [] //Array;\n",
        "Dicionários = {} //Objeto;"
      ]
    },
    {
      "cell_type": "code",
      "metadata": {
        "id": "XMAFiztL6RYi"
      },
      "source": [
        "casa = ('rua 2, 100', 1970)"
      ],
      "execution_count": 22,
      "outputs": []
    },
    {
      "cell_type": "code",
      "metadata": {
        "id": "mr035V1V6zvt",
        "outputId": "b9e566ac-08df-49fa-d5b5-a016ccef966b",
        "colab": {
          "base_uri": "https://localhost:8080/"
        }
      },
      "source": [
        "print(casa[0])"
      ],
      "execution_count": 23,
      "outputs": [
        {
          "output_type": "stream",
          "text": [
            "rua 2, 100\n"
          ],
          "name": "stdout"
        }
      ]
    },
    {
      "cell_type": "code",
      "metadata": {
        "id": "DyOqxRlo62fL"
      },
      "source": [
        "carros = ['fiesta', 'corolla', 'civic', 'gol', 'palio', 'fusion']"
      ],
      "execution_count": 25,
      "outputs": []
    },
    {
      "cell_type": "code",
      "metadata": {
        "id": "G542VowR7OiY",
        "outputId": "5cc070b9-930d-4b00-a97d-6b468f92d47a",
        "colab": {
          "base_uri": "https://localhost:8080/"
        }
      },
      "source": [
        "carros"
      ],
      "execution_count": 26,
      "outputs": [
        {
          "output_type": "execute_result",
          "data": {
            "text/plain": [
              "['fiesta', 'corolla', 'civic', 'gol', 'palio', 'fusion']"
            ]
          },
          "metadata": {
            "tags": []
          },
          "execution_count": 26
        }
      ]
    },
    {
      "cell_type": "code",
      "metadata": {
        "id": "oiwVqM167vBs",
        "outputId": "7a942022-994b-4fb2-b6b6-7b6bb964800d",
        "colab": {
          "base_uri": "https://localhost:8080/",
          "height": 35
        }
      },
      "source": [
        "carros[-1]"
      ],
      "execution_count": 29,
      "outputs": [
        {
          "output_type": "execute_result",
          "data": {
            "application/vnd.google.colaboratory.intrinsic+json": {
              "type": "string"
            },
            "text/plain": [
              "'fusion'"
            ]
          },
          "metadata": {
            "tags": []
          },
          "execution_count": 29
        }
      ]
    },
    {
      "cell_type": "code",
      "metadata": {
        "id": "-i5sDKRe77It"
      },
      "source": [
        "carros.append('sorento')"
      ],
      "execution_count": 30,
      "outputs": []
    },
    {
      "cell_type": "code",
      "metadata": {
        "id": "joZPE81H8MV-",
        "outputId": "6fdc6e39-665f-45b1-e1d4-bb50811fda8e",
        "colab": {
          "base_uri": "https://localhost:8080/"
        }
      },
      "source": [
        "carros"
      ],
      "execution_count": 31,
      "outputs": [
        {
          "output_type": "execute_result",
          "data": {
            "text/plain": [
              "['fiesta', 'corolla', 'civic', 'gol', 'palio', 'fusion', 'sorento']"
            ]
          },
          "metadata": {
            "tags": []
          },
          "execution_count": 31
        }
      ]
    },
    {
      "cell_type": "code",
      "metadata": {
        "id": "ozkc8LGh8NWc",
        "outputId": "cacfc5ec-6cfd-4b78-ed6f-3603df86c5ee",
        "colab": {
          "base_uri": "https://localhost:8080/",
          "height": 35
        }
      },
      "source": [
        "carros.pop()"
      ],
      "execution_count": 32,
      "outputs": [
        {
          "output_type": "execute_result",
          "data": {
            "application/vnd.google.colaboratory.intrinsic+json": {
              "type": "string"
            },
            "text/plain": [
              "'sorento'"
            ]
          },
          "metadata": {
            "tags": []
          },
          "execution_count": 32
        }
      ]
    },
    {
      "cell_type": "code",
      "metadata": {
        "id": "kHie-kH78QlM",
        "outputId": "a1521b46-2794-4173-b816-ea2bca911202",
        "colab": {
          "base_uri": "https://localhost:8080/"
        }
      },
      "source": [
        "carros"
      ],
      "execution_count": 33,
      "outputs": [
        {
          "output_type": "execute_result",
          "data": {
            "text/plain": [
              "['fiesta', 'corolla', 'civic', 'gol', 'palio', 'fusion']"
            ]
          },
          "metadata": {
            "tags": []
          },
          "execution_count": 33
        }
      ]
    },
    {
      "cell_type": "code",
      "metadata": {
        "id": "H1IJOfDh8WZC"
      },
      "source": [
        "carros.append('fiesta')"
      ],
      "execution_count": 34,
      "outputs": []
    },
    {
      "cell_type": "code",
      "metadata": {
        "id": "wr5XFFZb8Zgn",
        "outputId": "0c8bee61-9153-42d0-c80f-959fda478a0c",
        "colab": {
          "base_uri": "https://localhost:8080/"
        }
      },
      "source": [
        "carros"
      ],
      "execution_count": 35,
      "outputs": [
        {
          "output_type": "execute_result",
          "data": {
            "text/plain": [
              "['fiesta', 'corolla', 'civic', 'gol', 'palio', 'fusion', 'fiesta']"
            ]
          },
          "metadata": {
            "tags": []
          },
          "execution_count": 35
        }
      ]
    },
    {
      "cell_type": "code",
      "metadata": {
        "id": "KctnujpJ8b5Y"
      },
      "source": [
        "cantor = {\n",
        "    'nome': 'Roberto Carlos',\n",
        "    'ano_nascimento': 1950,\n",
        "    'cidade': 'Curitiba'\n",
        "}"
      ],
      "execution_count": 36,
      "outputs": []
    },
    {
      "cell_type": "code",
      "metadata": {
        "id": "pmjeB1LM8zuh",
        "outputId": "2f1acf0f-0600-449b-8575-122f25c41e23",
        "colab": {
          "base_uri": "https://localhost:8080/"
        }
      },
      "source": [
        "cantor"
      ],
      "execution_count": 37,
      "outputs": [
        {
          "output_type": "execute_result",
          "data": {
            "text/plain": [
              "{'ano_nascimento': 1950, 'cidade': 'Curitiba', 'nome': 'Roberto Carlos'}"
            ]
          },
          "metadata": {
            "tags": []
          },
          "execution_count": 37
        }
      ]
    },
    {
      "cell_type": "code",
      "metadata": {
        "id": "Nf444sM382aH",
        "outputId": "c5b014d9-f531-432c-8b6a-dd180026535e",
        "colab": {
          "base_uri": "https://localhost:8080/",
          "height": 35
        }
      },
      "source": [
        "cantor['nome']"
      ],
      "execution_count": 38,
      "outputs": [
        {
          "output_type": "execute_result",
          "data": {
            "application/vnd.google.colaboratory.intrinsic+json": {
              "type": "string"
            },
            "text/plain": [
              "'Roberto Carlos'"
            ]
          },
          "metadata": {
            "tags": []
          },
          "execution_count": 38
        }
      ]
    },
    {
      "cell_type": "code",
      "metadata": {
        "id": "iLk7WSAd9B0Q",
        "outputId": "a174090c-bb86-4630-e6c5-d41783e9bbe4",
        "colab": {
          "base_uri": "https://localhost:8080/",
          "height": 35
        }
      },
      "source": [
        "cantor['cidade']"
      ],
      "execution_count": 39,
      "outputs": [
        {
          "output_type": "execute_result",
          "data": {
            "application/vnd.google.colaboratory.intrinsic+json": {
              "type": "string"
            },
            "text/plain": [
              "'Curitiba'"
            ]
          },
          "metadata": {
            "tags": []
          },
          "execution_count": 39
        }
      ]
    },
    {
      "cell_type": "code",
      "metadata": {
        "id": "gjvFQmn_9DNo",
        "outputId": "985eab45-86c6-4d12-c78e-f7c8f63db534",
        "colab": {
          "base_uri": "https://localhost:8080/",
          "height": 35
        }
      },
      "source": [
        "cantor['nome'].lower()"
      ],
      "execution_count": 40,
      "outputs": [
        {
          "output_type": "execute_result",
          "data": {
            "application/vnd.google.colaboratory.intrinsic+json": {
              "type": "string"
            },
            "text/plain": [
              "'roberto carlos'"
            ]
          },
          "metadata": {
            "tags": []
          },
          "execution_count": 40
        }
      ]
    },
    {
      "cell_type": "code",
      "metadata": {
        "id": "RbyjTnzK9Iw1"
      },
      "source": [
        "cantor['estilo'] = 'MPB'"
      ],
      "execution_count": 41,
      "outputs": []
    },
    {
      "cell_type": "code",
      "metadata": {
        "id": "z0OXvr4Q9oDT",
        "outputId": "c03e2b39-4362-48df-f820-ce336bc2126d",
        "colab": {
          "base_uri": "https://localhost:8080/"
        }
      },
      "source": [
        "cantor"
      ],
      "execution_count": 42,
      "outputs": [
        {
          "output_type": "execute_result",
          "data": {
            "text/plain": [
              "{'ano_nascimento': 1950,\n",
              " 'cidade': 'Curitiba',\n",
              " 'estilo': 'MPB',\n",
              " 'nome': 'Roberto Carlos'}"
            ]
          },
          "metadata": {
            "tags": []
          },
          "execution_count": 42
        }
      ]
    },
    {
      "cell_type": "code",
      "metadata": {
        "id": "Pj86mV9S9pdK",
        "outputId": "48160372-9d11-4123-ce09-9b97a26a9289",
        "colab": {
          "base_uri": "https://localhost:8080/",
          "height": 35
        }
      },
      "source": [
        "cantor.pop('cidade', 'Chave não encontrada')"
      ],
      "execution_count": 44,
      "outputs": [
        {
          "output_type": "execute_result",
          "data": {
            "application/vnd.google.colaboratory.intrinsic+json": {
              "type": "string"
            },
            "text/plain": [
              "'Chave não encontrada'"
            ]
          },
          "metadata": {
            "tags": []
          },
          "execution_count": 44
        }
      ]
    },
    {
      "cell_type": "code",
      "metadata": {
        "id": "SkWI0oZ1-eWO",
        "outputId": "7514e6c8-f8c0-45de-8629-e4dde07fd1cd",
        "colab": {
          "base_uri": "https://localhost:8080/"
        }
      },
      "source": [
        "cantor.keys()"
      ],
      "execution_count": 46,
      "outputs": [
        {
          "output_type": "execute_result",
          "data": {
            "text/plain": [
              "dict_keys(['nome', 'ano_nascimento', 'estilo'])"
            ]
          },
          "metadata": {
            "tags": []
          },
          "execution_count": 46
        }
      ]
    },
    {
      "cell_type": "code",
      "metadata": {
        "id": "XMP9F430-Daz",
        "outputId": "bef0ee6f-a4b1-43f8-804c-b089fa6d5103",
        "colab": {
          "base_uri": "https://localhost:8080/"
        }
      },
      "source": [
        "cantor.values()"
      ],
      "execution_count": 47,
      "outputs": [
        {
          "output_type": "execute_result",
          "data": {
            "text/plain": [
              "dict_values(['Roberto Carlos', 1950, 'MPB'])"
            ]
          },
          "metadata": {
            "tags": []
          },
          "execution_count": 47
        }
      ]
    },
    {
      "cell_type": "markdown",
      "metadata": {
        "id": "O7cCTpQY-7Dy"
      },
      "source": [
        "BOOLEAN"
      ]
    },
    {
      "cell_type": "code",
      "metadata": {
        "id": "DAnuwjUU-m_Y"
      },
      "source": [
        "run = False"
      ],
      "execution_count": 49,
      "outputs": []
    },
    {
      "cell_type": "code",
      "metadata": {
        "id": "svtEF7SR_Ea7",
        "outputId": "042db08e-830f-4ef3-d3ae-53401053ad70",
        "colab": {
          "base_uri": "https://localhost:8080/"
        }
      },
      "source": [
        "run"
      ],
      "execution_count": 50,
      "outputs": [
        {
          "output_type": "execute_result",
          "data": {
            "text/plain": [
              "False"
            ]
          },
          "metadata": {
            "tags": []
          },
          "execution_count": 50
        }
      ]
    },
    {
      "cell_type": "code",
      "metadata": {
        "id": "HfJ0ChFE_MI-",
        "outputId": "9ac3a877-9616-4fad-cc5d-363e5cfecf57",
        "colab": {
          "base_uri": "https://localhost:8080/"
        }
      },
      "source": [
        "print(int(run))"
      ],
      "execution_count": 51,
      "outputs": [
        {
          "output_type": "stream",
          "text": [
            "0\n"
          ],
          "name": "stdout"
        }
      ]
    },
    {
      "cell_type": "code",
      "metadata": {
        "id": "589-GM9v_Pxy"
      },
      "source": [
        "run = True"
      ],
      "execution_count": 52,
      "outputs": []
    },
    {
      "cell_type": "code",
      "metadata": {
        "id": "lV1wgJAo_RNp",
        "outputId": "97750d02-0056-422f-9f17-da98c65be224",
        "colab": {
          "base_uri": "https://localhost:8080/"
        }
      },
      "source": [
        "run"
      ],
      "execution_count": 53,
      "outputs": [
        {
          "output_type": "execute_result",
          "data": {
            "text/plain": [
              "True"
            ]
          },
          "metadata": {
            "tags": []
          },
          "execution_count": 53
        }
      ]
    },
    {
      "cell_type": "markdown",
      "metadata": {
        "id": "BLxpNYeV_xhd"
      },
      "source": [
        "IF STATEMENT"
      ]
    },
    {
      "cell_type": "code",
      "metadata": {
        "id": "XKLkjshz_SHa",
        "outputId": "d90d0cd6-01f6-42a9-f250-02da6ed7f00a",
        "colab": {
          "base_uri": "https://localhost:8080/"
        }
      },
      "source": [
        "20 == 10"
      ],
      "execution_count": 54,
      "outputs": [
        {
          "output_type": "execute_result",
          "data": {
            "text/plain": [
              "False"
            ]
          },
          "metadata": {
            "tags": []
          },
          "execution_count": 54
        }
      ]
    },
    {
      "cell_type": "code",
      "metadata": {
        "id": "Kx4VNEsN_2d1",
        "outputId": "06975321-02fa-485e-ffc1-2c72cfc5b9ab",
        "colab": {
          "base_uri": "https://localhost:8080/"
        }
      },
      "source": [
        "2 > 3"
      ],
      "execution_count": 55,
      "outputs": [
        {
          "output_type": "execute_result",
          "data": {
            "text/plain": [
              "False"
            ]
          },
          "metadata": {
            "tags": []
          },
          "execution_count": 55
        }
      ]
    },
    {
      "cell_type": "code",
      "metadata": {
        "id": "3wu4ScznAFZX"
      },
      "source": [
        "nome = 'Arthur Wosniaki'\n",
        "idade = 32"
      ],
      "execution_count": 68,
      "outputs": []
    },
    {
      "cell_type": "code",
      "metadata": {
        "id": "fJC1h3fuAdkr",
        "outputId": "3574e17b-66ec-470e-880c-f12a46ff339a",
        "colab": {
          "base_uri": "https://localhost:8080/"
        }
      },
      "source": [
        "if idade > 20: \n",
        "  print(nome)\n",
        "  print(idade)\n",
        "else:\n",
        "  print(f'O usuário {nome} não é maior de 20 anos, pois possui {idade} anos.')"
      ],
      "execution_count": 61,
      "outputs": [
        {
          "output_type": "stream",
          "text": [
            "O usuário Arthur Wosniaki não é maior de 20 anos, pois possui 32 anos.\n"
          ],
          "name": "stdout"
        }
      ]
    },
    {
      "cell_type": "code",
      "metadata": {
        "id": "rgFwy1JgA5p3",
        "outputId": "86ced01e-6370-4ab6-da8e-b7e8ea492b5a",
        "colab": {
          "base_uri": "https://localhost:8080/"
        }
      },
      "source": [
        "if idade < 2:\n",
        "  print('Passagem grátis!')\n",
        "elif idade <= 12:\n",
        "  print('Passagem tem 70% de desconto')\n",
        "elif idade <= 65:\n",
        "  print('Passagem sem desconto')\n",
        "else:\n",
        "  print('Passagem com 25%')"
      ],
      "execution_count": 69,
      "outputs": [
        {
          "output_type": "stream",
          "text": [
            "Passagem sem desconto\n"
          ],
          "name": "stdout"
        }
      ]
    },
    {
      "cell_type": "markdown",
      "metadata": {
        "id": "sfTrLjbHCvZm"
      },
      "source": [
        "FOR LOOP"
      ]
    },
    {
      "cell_type": "code",
      "metadata": {
        "id": "ccVSttT7CwPx"
      },
      "source": [
        "produtos = ['queijo', 'arroz', 'macarrão', 'azeite', 'ovo', 'manteiga']"
      ],
      "execution_count": 70,
      "outputs": []
    },
    {
      "cell_type": "code",
      "metadata": {
        "id": "nzKBJg_DC4eq",
        "outputId": "643cc7f2-8d2d-496d-cd46-8804e963e2e1",
        "colab": {
          "base_uri": "https://localhost:8080/"
        }
      },
      "source": [
        "produtos"
      ],
      "execution_count": 71,
      "outputs": [
        {
          "output_type": "execute_result",
          "data": {
            "text/plain": [
              "['queijo', 'arroz', 'macarrão', 'azeite', 'ovo', 'manteiga']"
            ]
          },
          "metadata": {
            "tags": []
          },
          "execution_count": 71
        }
      ]
    },
    {
      "cell_type": "code",
      "metadata": {
        "id": "aBe5INtqC5wW",
        "outputId": "ed4694e6-9813-4b9f-d20e-9cd767be908c",
        "colab": {
          "base_uri": "https://localhost:8080/"
        }
      },
      "source": [
        "for produto in produtos:\n",
        "  print(f'O produto {produto.upper()} tem em estoque')"
      ],
      "execution_count": 73,
      "outputs": [
        {
          "output_type": "stream",
          "text": [
            "O produto QUEIJO tem em estoque\n",
            "O produto ARROZ tem em estoque\n",
            "O produto MACARRÃO tem em estoque\n",
            "O produto AZEITE tem em estoque\n",
            "O produto OVO tem em estoque\n",
            "O produto MANTEIGA tem em estoque\n"
          ],
          "name": "stdout"
        }
      ]
    },
    {
      "cell_type": "code",
      "metadata": {
        "id": "e_xnbI2YDZ6_",
        "outputId": "839f09ad-c6ae-4bad-d56e-77d639b28323",
        "colab": {
          "base_uri": "https://localhost:8080/"
        }
      },
      "source": [
        "for numero in range(1, 11):\n",
        "  print(numero / 2)"
      ],
      "execution_count": 74,
      "outputs": [
        {
          "output_type": "stream",
          "text": [
            "0.5\n",
            "1.0\n",
            "1.5\n",
            "2.0\n",
            "2.5\n",
            "3.0\n",
            "3.5\n",
            "4.0\n",
            "4.5\n",
            "5.0\n"
          ],
          "name": "stdout"
        }
      ]
    },
    {
      "cell_type": "code",
      "metadata": {
        "id": "9C1GeyF_EJAW"
      },
      "source": [
        ""
      ],
      "execution_count": null,
      "outputs": []
    },
    {
      "cell_type": "markdown",
      "metadata": {
        "id": "BZNX0RSbER3Q"
      },
      "source": [
        "FUNÇÕES"
      ]
    },
    {
      "cell_type": "code",
      "metadata": {
        "id": "l3NinNvOETR7",
        "outputId": "47e1e008-7810-44a3-d2ce-e47898831cb6",
        "colab": {
          "base_uri": "https://localhost:8080/"
        }
      },
      "source": [
        "def somar_dois_numeros(a, b):\n",
        "  return a + b\n",
        "\n",
        "somar_dois_numeros(1, 3)"
      ],
      "execution_count": 75,
      "outputs": [
        {
          "output_type": "execute_result",
          "data": {
            "text/plain": [
              "4"
            ]
          },
          "metadata": {
            "tags": []
          },
          "execution_count": 75
        }
      ]
    },
    {
      "cell_type": "code",
      "metadata": {
        "id": "LL3iJkdjEvVN"
      },
      "source": [
        "def saudacao(nome_usuario):\n",
        "  print(f'Olá {nome_usuario}! Seja bem-vindo!')"
      ],
      "execution_count": 76,
      "outputs": []
    },
    {
      "cell_type": "code",
      "metadata": {
        "id": "AU8FApuLFre8",
        "outputId": "ebd5d182-028b-434c-d941-bb07d4a55351",
        "colab": {
          "base_uri": "https://localhost:8080/"
        }
      },
      "source": [
        "saudacao('Arthur')"
      ],
      "execution_count": 77,
      "outputs": [
        {
          "output_type": "stream",
          "text": [
            "Olá Arthur! Seja bem-vindo!\n"
          ],
          "name": "stdout"
        }
      ]
    },
    {
      "cell_type": "code",
      "metadata": {
        "id": "76CgJWFrFtFi"
      },
      "source": [
        ""
      ],
      "execution_count": null,
      "outputs": []
    }
  ]
}