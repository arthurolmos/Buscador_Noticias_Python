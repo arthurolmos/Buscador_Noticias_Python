{
  "nbformat": 4,
  "nbformat_minor": 0,
  "metadata": {
    "colab": {
      "name": "Aula_02_Missões",
      "provenance": [],
      "authorship_tag": "ABX9TyMaE9v6OwwaQ7T3q03eWllk",
      "include_colab_link": true
    },
    "kernelspec": {
      "name": "python3",
      "display_name": "Python 3"
    }
  },
  "cells": [
    {
      "cell_type": "markdown",
      "metadata": {
        "id": "view-in-github",
        "colab_type": "text"
      },
      "source": [
        "<a href=\"https://colab.research.google.com/github/arthurolmos/semana-programador-python/blob/main/Aula_02_Miss%C3%B5es.ipynb\" target=\"_parent\"><img src=\"https://colab.research.google.com/assets/colab-badge.svg\" alt=\"Open In Colab\"/></a>"
      ]
    },
    {
      "cell_type": "markdown",
      "metadata": {
        "id": "riy-q2zlGz7j"
      },
      "source": [
        "F-STRING E LISTAS"
      ]
    },
    {
      "cell_type": "code",
      "metadata": {
        "id": "SwsRizLdGoLJ"
      },
      "source": [
        "produtos = ['computador', 'mouse', 'monitor', 'laptop']"
      ],
      "execution_count": 1,
      "outputs": []
    },
    {
      "cell_type": "code",
      "metadata": {
        "id": "X6k6Xr-FG6Zn",
        "outputId": "8ebfbae9-5149-45db-e71e-869f801407d8",
        "colab": {
          "base_uri": "https://localhost:8080/"
        }
      },
      "source": [
        "print(f'{produtos[0].title()} sem estoque')\n",
        "print(f'{produtos[1].title()} sem estoque')\n",
        "print(f'{produtos[2].title()} sem estoque')\n",
        "print(f'{produtos[3].title()} sem estoque')"
      ],
      "execution_count": 10,
      "outputs": [
        {
          "output_type": "stream",
          "text": [
            "Computador sem estoque\n",
            "Mouse sem estoque\n",
            "Monitor sem estoque\n",
            "Laptop sem estoque\n"
          ],
          "name": "stdout"
        }
      ]
    },
    {
      "cell_type": "code",
      "metadata": {
        "id": "xMmNx2EeHGj0"
      },
      "source": [
        "numeros = [1, 2, 3, 4, 5]"
      ],
      "execution_count": 5,
      "outputs": []
    },
    {
      "cell_type": "code",
      "metadata": {
        "id": "JKpiql1rHWkz",
        "outputId": "e9ce9c5c-e0c9-4d7c-a2d8-23acd09e180e",
        "colab": {
          "base_uri": "https://localhost:8080/"
        }
      },
      "source": [
        "print(numeros[0])\n",
        "print(numeros[-1])"
      ],
      "execution_count": 8,
      "outputs": [
        {
          "output_type": "stream",
          "text": [
            "1\n",
            "5\n"
          ],
          "name": "stdout"
        }
      ]
    },
    {
      "cell_type": "markdown",
      "metadata": {
        "id": "TQnjKuKuHgdR"
      },
      "source": [
        "FOR LOOP"
      ]
    },
    {
      "cell_type": "code",
      "metadata": {
        "id": "M5B6OcoxHZav"
      },
      "source": [
        "carros = ['gol', 'golf', 'fox', 'camaro', 'civic']"
      ],
      "execution_count": 11,
      "outputs": []
    },
    {
      "cell_type": "code",
      "metadata": {
        "id": "gYZby0y6H5-b",
        "outputId": "e5732ad3-e0ff-42c4-bcfc-76cb56dabac5",
        "colab": {
          "base_uri": "https://localhost:8080/"
        }
      },
      "source": [
        "for carro in carros:\n",
        "  print(carro)"
      ],
      "execution_count": 12,
      "outputs": [
        {
          "output_type": "stream",
          "text": [
            "gol\n",
            "golf\n",
            "fox\n",
            "camaro\n",
            "civic\n"
          ],
          "name": "stdout"
        }
      ]
    },
    {
      "cell_type": "code",
      "metadata": {
        "id": "1hkC3fi-H9ua",
        "outputId": "653d1e17-9b4e-42d6-eead-c2479bb5477d",
        "colab": {
          "base_uri": "https://localhost:8080/"
        }
      },
      "source": [
        "for carro in carros:\n",
        "  print(f'Meu {carro.title()} tem motor 2.0')"
      ],
      "execution_count": 13,
      "outputs": [
        {
          "output_type": "stream",
          "text": [
            "Meu Gol tem motor 2.0\n",
            "Meu Golf tem motor 2.0\n",
            "Meu Fox tem motor 2.0\n",
            "Meu Camaro tem motor 2.0\n",
            "Meu Civic tem motor 2.0\n"
          ],
          "name": "stdout"
        }
      ]
    },
    {
      "cell_type": "markdown",
      "metadata": {
        "id": "_o2jvLz0ILfO"
      },
      "source": [
        "DICIONÁRIOS"
      ]
    },
    {
      "cell_type": "code",
      "metadata": {
        "id": "CIYeMheSIIcU"
      },
      "source": [
        "usuario = {\n",
        "    'nome': 'Arthur Olmos',\n",
        "    'sexo': 'M',\n",
        "    'idade': 32,\n",
        "    'email': 'arthur.olmos@gmail.com'\n",
        "}"
      ],
      "execution_count": 14,
      "outputs": []
    },
    {
      "cell_type": "code",
      "metadata": {
        "id": "5DHPImSJIY7F",
        "outputId": "367eac90-ebb5-4262-d4e2-319ba352f16e",
        "colab": {
          "base_uri": "https://localhost:8080/"
        }
      },
      "source": [
        "usuario"
      ],
      "execution_count": 15,
      "outputs": [
        {
          "output_type": "execute_result",
          "data": {
            "text/plain": [
              "{'email': 'arthur.olmos@gmail.com',\n",
              " 'idade': 32,\n",
              " 'nome': 'Arthur Olmos',\n",
              " 'sexo': 'M'}"
            ]
          },
          "metadata": {
            "tags": []
          },
          "execution_count": 15
        }
      ]
    },
    {
      "cell_type": "code",
      "metadata": {
        "id": "gkNKCYIrIa5v"
      },
      "source": [
        "usuario['tipo'] = 'administrador'"
      ],
      "execution_count": 16,
      "outputs": []
    },
    {
      "cell_type": "code",
      "metadata": {
        "id": "9zuvfCUSIdTh",
        "outputId": "15c38f2a-3f62-488e-e114-3e43b9dbec2d",
        "colab": {
          "base_uri": "https://localhost:8080/"
        }
      },
      "source": [
        "usuario"
      ],
      "execution_count": 17,
      "outputs": [
        {
          "output_type": "execute_result",
          "data": {
            "text/plain": [
              "{'email': 'arthur.olmos@gmail.com',\n",
              " 'idade': 32,\n",
              " 'nome': 'Arthur Olmos',\n",
              " 'sexo': 'M',\n",
              " 'tipo': 'administrador'}"
            ]
          },
          "metadata": {
            "tags": []
          },
          "execution_count": 17
        }
      ]
    },
    {
      "cell_type": "code",
      "metadata": {
        "id": "iJtrz-RUId1M",
        "outputId": "355de49c-e2b1-48b5-e6ee-94a79bcac323",
        "colab": {
          "base_uri": "https://localhost:8080/"
        }
      },
      "source": [
        "print(usuario.keys())\n",
        "print(usuario.values())"
      ],
      "execution_count": 18,
      "outputs": [
        {
          "output_type": "stream",
          "text": [
            "dict_keys(['nome', 'sexo', 'idade', 'email', 'tipo'])\n",
            "dict_values(['Arthur Olmos', 'M', 32, 'arthur.olmos@gmail.com', 'administrador'])\n"
          ],
          "name": "stdout"
        }
      ]
    },
    {
      "cell_type": "markdown",
      "metadata": {
        "id": "9nCmfUxgIj1I"
      },
      "source": [
        "IF STATEMENT"
      ]
    },
    {
      "cell_type": "code",
      "metadata": {
        "id": "Yd74Dc49Ihoa"
      },
      "source": [
        "cores = ['azul', 'vermelho', 'amarelo', 'roxo']"
      ],
      "execution_count": 19,
      "outputs": []
    },
    {
      "cell_type": "code",
      "metadata": {
        "id": "gZKIPu-LIqRZ",
        "outputId": "9ec8f4ca-a5c1-4745-c6f3-9e18dd940212",
        "colab": {
          "base_uri": "https://localhost:8080/"
        }
      },
      "source": [
        "cores"
      ],
      "execution_count": 20,
      "outputs": [
        {
          "output_type": "execute_result",
          "data": {
            "text/plain": [
              "['azul', 'vermelho', 'amarelo', 'roxo']"
            ]
          },
          "metadata": {
            "tags": []
          },
          "execution_count": 20
        }
      ]
    },
    {
      "cell_type": "code",
      "metadata": {
        "id": "y_epsp86IrD9",
        "outputId": "fbeff796-4f82-4c0e-b24b-2f5e4f497c43",
        "colab": {
          "base_uri": "https://localhost:8080/"
        }
      },
      "source": [
        "for cor in cores:\n",
        "  if cor == 'amarelo':\n",
        "    print(f'A cor do carro será {cor}')\n",
        "  else:\n",
        "    print(f'A cor do carro pode ser {cor}')\n",
        "\n"
      ],
      "execution_count": 22,
      "outputs": [
        {
          "output_type": "stream",
          "text": [
            "A cor do carro pode ser azul\n",
            "A cor do carro pode ser vermelho\n",
            "A cor do carro será amarelo\n",
            "A cor do carro pode ser roxo\n"
          ],
          "name": "stdout"
        }
      ]
    },
    {
      "cell_type": "code",
      "metadata": {
        "id": "6n4tHg-jI6DB"
      },
      "source": [
        ""
      ],
      "execution_count": null,
      "outputs": []
    }
  ]
}